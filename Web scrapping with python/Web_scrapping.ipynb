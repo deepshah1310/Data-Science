{
  "nbformat": 4,
  "nbformat_minor": 0,
  "metadata": {
    "colab": {
      "name": "Web scrapping.ipynb",
      "provenance": []
    },
    "kernelspec": {
      "name": "python3",
      "display_name": "Python 3"
    },
    "language_info": {
      "name": "python"
    }
  },
  "cells": [
    {
      "cell_type": "code",
      "metadata": {
        "colab": {
          "base_uri": "https://localhost:8080/"
        },
        "id": "QRGaCPkrs93I",
        "outputId": "50a97aec-705f-417a-9d74-e03adcf379d1"
      },
      "source": [
        "pip install selenium"
      ],
      "execution_count": 1,
      "outputs": [
        {
          "output_type": "stream",
          "text": [
            "Collecting selenium\n",
            "  Downloading selenium-3.141.0-py2.py3-none-any.whl (904 kB)\n",
            "\u001b[?25l\r\u001b[K     |▍                               | 10 kB 23.5 MB/s eta 0:00:01\r\u001b[K     |▊                               | 20 kB 30.2 MB/s eta 0:00:01\r\u001b[K     |█                               | 30 kB 36.8 MB/s eta 0:00:01\r\u001b[K     |█▌                              | 40 kB 40.1 MB/s eta 0:00:01\r\u001b[K     |█▉                              | 51 kB 38.2 MB/s eta 0:00:01\r\u001b[K     |██▏                             | 61 kB 40.7 MB/s eta 0:00:01\r\u001b[K     |██▌                             | 71 kB 29.6 MB/s eta 0:00:01\r\u001b[K     |███                             | 81 kB 30.8 MB/s eta 0:00:01\r\u001b[K     |███▎                            | 92 kB 30.7 MB/s eta 0:00:01\r\u001b[K     |███▋                            | 102 kB 31.5 MB/s eta 0:00:01\r\u001b[K     |████                            | 112 kB 31.5 MB/s eta 0:00:01\r\u001b[K     |████▍                           | 122 kB 31.5 MB/s eta 0:00:01\r\u001b[K     |████▊                           | 133 kB 31.5 MB/s eta 0:00:01\r\u001b[K     |█████                           | 143 kB 31.5 MB/s eta 0:00:01\r\u001b[K     |█████▍                          | 153 kB 31.5 MB/s eta 0:00:01\r\u001b[K     |█████▉                          | 163 kB 31.5 MB/s eta 0:00:01\r\u001b[K     |██████▏                         | 174 kB 31.5 MB/s eta 0:00:01\r\u001b[K     |██████▌                         | 184 kB 31.5 MB/s eta 0:00:01\r\u001b[K     |██████▉                         | 194 kB 31.5 MB/s eta 0:00:01\r\u001b[K     |███████▎                        | 204 kB 31.5 MB/s eta 0:00:01\r\u001b[K     |███████▋                        | 215 kB 31.5 MB/s eta 0:00:01\r\u001b[K     |████████                        | 225 kB 31.5 MB/s eta 0:00:01\r\u001b[K     |████████▎                       | 235 kB 31.5 MB/s eta 0:00:01\r\u001b[K     |████████▊                       | 245 kB 31.5 MB/s eta 0:00:01\r\u001b[K     |█████████                       | 256 kB 31.5 MB/s eta 0:00:01\r\u001b[K     |█████████▍                      | 266 kB 31.5 MB/s eta 0:00:01\r\u001b[K     |█████████▉                      | 276 kB 31.5 MB/s eta 0:00:01\r\u001b[K     |██████████▏                     | 286 kB 31.5 MB/s eta 0:00:01\r\u001b[K     |██████████▌                     | 296 kB 31.5 MB/s eta 0:00:01\r\u001b[K     |██████████▉                     | 307 kB 31.5 MB/s eta 0:00:01\r\u001b[K     |███████████▎                    | 317 kB 31.5 MB/s eta 0:00:01\r\u001b[K     |███████████▋                    | 327 kB 31.5 MB/s eta 0:00:01\r\u001b[K     |████████████                    | 337 kB 31.5 MB/s eta 0:00:01\r\u001b[K     |████████████▎                   | 348 kB 31.5 MB/s eta 0:00:01\r\u001b[K     |████████████▊                   | 358 kB 31.5 MB/s eta 0:00:01\r\u001b[K     |█████████████                   | 368 kB 31.5 MB/s eta 0:00:01\r\u001b[K     |█████████████▍                  | 378 kB 31.5 MB/s eta 0:00:01\r\u001b[K     |█████████████▊                  | 389 kB 31.5 MB/s eta 0:00:01\r\u001b[K     |██████████████▏                 | 399 kB 31.5 MB/s eta 0:00:01\r\u001b[K     |██████████████▌                 | 409 kB 31.5 MB/s eta 0:00:01\r\u001b[K     |██████████████▉                 | 419 kB 31.5 MB/s eta 0:00:01\r\u001b[K     |███████████████▏                | 430 kB 31.5 MB/s eta 0:00:01\r\u001b[K     |███████████████▋                | 440 kB 31.5 MB/s eta 0:00:01\r\u001b[K     |████████████████                | 450 kB 31.5 MB/s eta 0:00:01\r\u001b[K     |████████████████▎               | 460 kB 31.5 MB/s eta 0:00:01\r\u001b[K     |████████████████▋               | 471 kB 31.5 MB/s eta 0:00:01\r\u001b[K     |█████████████████               | 481 kB 31.5 MB/s eta 0:00:01\r\u001b[K     |█████████████████▍              | 491 kB 31.5 MB/s eta 0:00:01\r\u001b[K     |█████████████████▊              | 501 kB 31.5 MB/s eta 0:00:01\r\u001b[K     |██████████████████▏             | 512 kB 31.5 MB/s eta 0:00:01\r\u001b[K     |██████████████████▌             | 522 kB 31.5 MB/s eta 0:00:01\r\u001b[K     |██████████████████▉             | 532 kB 31.5 MB/s eta 0:00:01\r\u001b[K     |███████████████████▏            | 542 kB 31.5 MB/s eta 0:00:01\r\u001b[K     |███████████████████▋            | 552 kB 31.5 MB/s eta 0:00:01\r\u001b[K     |████████████████████            | 563 kB 31.5 MB/s eta 0:00:01\r\u001b[K     |████████████████████▎           | 573 kB 31.5 MB/s eta 0:00:01\r\u001b[K     |████████████████████▋           | 583 kB 31.5 MB/s eta 0:00:01\r\u001b[K     |█████████████████████           | 593 kB 31.5 MB/s eta 0:00:01\r\u001b[K     |█████████████████████▍          | 604 kB 31.5 MB/s eta 0:00:01\r\u001b[K     |█████████████████████▊          | 614 kB 31.5 MB/s eta 0:00:01\r\u001b[K     |██████████████████████          | 624 kB 31.5 MB/s eta 0:00:01\r\u001b[K     |██████████████████████▌         | 634 kB 31.5 MB/s eta 0:00:01\r\u001b[K     |██████████████████████▉         | 645 kB 31.5 MB/s eta 0:00:01\r\u001b[K     |███████████████████████▏        | 655 kB 31.5 MB/s eta 0:00:01\r\u001b[K     |███████████████████████▌        | 665 kB 31.5 MB/s eta 0:00:01\r\u001b[K     |████████████████████████        | 675 kB 31.5 MB/s eta 0:00:01\r\u001b[K     |████████████████████████▎       | 686 kB 31.5 MB/s eta 0:00:01\r\u001b[K     |████████████████████████▋       | 696 kB 31.5 MB/s eta 0:00:01\r\u001b[K     |█████████████████████████       | 706 kB 31.5 MB/s eta 0:00:01\r\u001b[K     |█████████████████████████▍      | 716 kB 31.5 MB/s eta 0:00:01\r\u001b[K     |█████████████████████████▊      | 727 kB 31.5 MB/s eta 0:00:01\r\u001b[K     |██████████████████████████      | 737 kB 31.5 MB/s eta 0:00:01\r\u001b[K     |██████████████████████████▍     | 747 kB 31.5 MB/s eta 0:00:01\r\u001b[K     |██████████████████████████▉     | 757 kB 31.5 MB/s eta 0:00:01\r\u001b[K     |███████████████████████████▏    | 768 kB 31.5 MB/s eta 0:00:01\r\u001b[K     |███████████████████████████▌    | 778 kB 31.5 MB/s eta 0:00:01\r\u001b[K     |████████████████████████████    | 788 kB 31.5 MB/s eta 0:00:01\r\u001b[K     |████████████████████████████▎   | 798 kB 31.5 MB/s eta 0:00:01\r\u001b[K     |████████████████████████████▋   | 808 kB 31.5 MB/s eta 0:00:01\r\u001b[K     |█████████████████████████████   | 819 kB 31.5 MB/s eta 0:00:01\r\u001b[K     |█████████████████████████████▍  | 829 kB 31.5 MB/s eta 0:00:01\r\u001b[K     |█████████████████████████████▊  | 839 kB 31.5 MB/s eta 0:00:01\r\u001b[K     |██████████████████████████████  | 849 kB 31.5 MB/s eta 0:00:01\r\u001b[K     |██████████████████████████████▍ | 860 kB 31.5 MB/s eta 0:00:01\r\u001b[K     |██████████████████████████████▉ | 870 kB 31.5 MB/s eta 0:00:01\r\u001b[K     |███████████████████████████████▏| 880 kB 31.5 MB/s eta 0:00:01\r\u001b[K     |███████████████████████████████▌| 890 kB 31.5 MB/s eta 0:00:01\r\u001b[K     |███████████████████████████████▉| 901 kB 31.5 MB/s eta 0:00:01\r\u001b[K     |████████████████████████████████| 904 kB 31.5 MB/s \n",
            "\u001b[?25hRequirement already satisfied: urllib3 in /usr/local/lib/python3.7/dist-packages (from selenium) (1.24.3)\n",
            "Installing collected packages: selenium\n",
            "Successfully installed selenium-3.141.0\n"
          ],
          "name": "stdout"
        }
      ]
    },
    {
      "cell_type": "code",
      "metadata": {
        "colab": {
          "base_uri": "https://localhost:8080/"
        },
        "id": "D0QMEKsZtTD_",
        "outputId": "933e79e6-44e8-418b-eda9-5c4b24fcd4d2"
      },
      "source": [
        "pip install beautifulsoup4"
      ],
      "execution_count": 2,
      "outputs": [
        {
          "output_type": "stream",
          "text": [
            "Requirement already satisfied: beautifulsoup4 in /usr/local/lib/python3.7/dist-packages (4.6.3)\n"
          ],
          "name": "stdout"
        }
      ]
    },
    {
      "cell_type": "code",
      "metadata": {
        "id": "k6Cc97qvtWM0"
      },
      "source": [
        "from selenium import webdriver\n",
        "from bs4 import BeautifulSoup\n",
        "import pandas as pd"
      ],
      "execution_count": 3,
      "outputs": []
    },
    {
      "cell_type": "code",
      "metadata": {
        "id": "Kxo-DdMcfip2"
      },
      "source": [
        "import requests\n",
        "url=\"https://www.flipkart.com/search?q=laptop&sid=6bo%2Cb5g&as=on&as-show=on&otracker=AS_QueryStore_OrganicAutoSuggest_1_6_na_na_na&otracker1=AS_QueryStore_OrganicAutoSuggest_1_6_na_na_na&as-pos=1&as-type=RECENT&suggestionId=laptop%7CLaptops&requestId=7ec220e8-4f02-4150-9e0b-9e90cf692f4b&as-searchtext=laptop\"\n",
        "response = requests.get(url)\n",
        "htmlcontent = response.content\n",
        "soup = BeautifulSoup(htmlcontent,\"html.parser\")\n",
        "#print(soup.prettify)"
      ],
      "execution_count": 4,
      "outputs": []
    },
    {
      "cell_type": "code",
      "metadata": {
        "colab": {
          "base_uri": "https://localhost:8080/"
        },
        "id": "BKoQjXMhfo1I",
        "outputId": "a510cb3a-66a3-435f-bfc6-3d64d010e236"
      },
      "source": [
        "products=[]\n",
        "prices=[]\n",
        "product=soup.find('div',attrs={'class':'_4rR01T'})\n",
        "print(product.text)"
      ],
      "execution_count": 5,
      "outputs": [
        {
          "output_type": "stream",
          "text": [
            "Lenovo IdeaPad 3 Core i3 10th Gen - (8 GB/1 TB HDD/Windows 10 Home) 15IML05 Thin and Light Laptop\n"
          ],
          "name": "stdout"
        }
      ]
    },
    {
      "cell_type": "code",
      "metadata": {
        "id": "MjStEPuqfyYx"
      },
      "source": [
        "for a in soup.findAll('a',href=True, attrs={'class':'_1fQZEK'}):\n",
        "  name=a.find('div',attrs={'class':'_4rR01T'})\n",
        "  price=a.find('div',attrs={'class':'_30jeq3 _1_WHN1'})\n",
        "  products.append(name.text)\n",
        "  prices.append(price.text)"
      ],
      "execution_count": 6,
      "outputs": []
    },
    {
      "cell_type": "code",
      "metadata": {
        "id": "lozbVY0sf2TV"
      },
      "source": [
        "df = pd.DataFrame({'Product Name':products,'Price':prices}) \n",
        "df.to_csv('18IT117_Practical-1.csv', index=False, encoding='utf-8')"
      ],
      "execution_count": 7,
      "outputs": []
    }
  ]
}