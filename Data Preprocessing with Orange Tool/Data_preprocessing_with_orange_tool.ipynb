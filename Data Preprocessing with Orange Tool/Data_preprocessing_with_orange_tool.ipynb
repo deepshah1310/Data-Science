{
  "nbformat": 4,
  "nbformat_minor": 0,
  "metadata": {
    "colab": {
      "name": "Data_preprocessing_with_orange_tool.ipynb",
      "provenance": []
    },
    "kernelspec": {
      "name": "python3",
      "display_name": "Python 3"
    },
    "language_info": {
      "name": "python"
    }
  },
  "cells": [
    {
      "cell_type": "code",
      "metadata": {
        "colab": {
          "base_uri": "https://localhost:8080/"
        },
        "id": "-UshbfpzSgl7",
        "outputId": "91d955c8-8068-4fe4-b4e0-d80b7d671d24"
      },
      "source": [
        "!pip install Orange3"
      ],
      "execution_count": 1,
      "outputs": [
        {
          "output_type": "stream",
          "name": "stdout",
          "text": [
            "Collecting Orange3\n",
            "  Downloading Orange3-3.29.3-cp37-cp37m-manylinux_2_5_x86_64.manylinux1_x86_64.whl (25.3 MB)\n",
            "\u001b[K     |████████████████████████████████| 25.3 MB 97 kB/s \n",
            "\u001b[?25hCollecting openTSNE>=0.6.0\n",
            "  Downloading openTSNE-0.6.0-cp37-cp37m-manylinux2010_x86_64.whl (2.3 MB)\n",
            "\u001b[K     |████████████████████████████████| 2.3 MB 43.8 MB/s \n",
            "\u001b[?25hRequirement already satisfied: joblib>=0.9.4 in /usr/local/lib/python3.7/dist-packages (from Orange3) (1.0.1)\n",
            "Requirement already satisfied: chardet>=3.0.2 in /usr/local/lib/python3.7/dist-packages (from Orange3) (3.0.4)\n",
            "Requirement already satisfied: pandas>=1.0.0 in /usr/local/lib/python3.7/dist-packages (from Orange3) (1.1.5)\n",
            "Requirement already satisfied: scikit-learn!=0.23.0,>=0.22.0 in /usr/local/lib/python3.7/dist-packages (from Orange3) (0.22.2.post1)\n",
            "Collecting httpx<0.17,>=0.14.0\n",
            "  Downloading httpx-0.16.1-py3-none-any.whl (65 kB)\n",
            "\u001b[K     |████████████████████████████████| 65 kB 3.8 MB/s \n",
            "\u001b[?25hRequirement already satisfied: matplotlib>=2.0.0 in /usr/local/lib/python3.7/dist-packages (from Orange3) (3.2.2)\n",
            "Collecting orange-canvas-core<0.2a,>=0.1.21\n",
            "  Downloading orange_canvas_core-0.1.22-py3-none-any.whl (489 kB)\n",
            "\u001b[K     |████████████████████████████████| 489 kB 58.0 MB/s \n",
            "\u001b[?25hCollecting baycomp>=1.0.2\n",
            "  Downloading baycomp-1.0.2-py3-none-any.whl (17 kB)\n",
            "Requirement already satisfied: python-louvain>=0.13 in /usr/local/lib/python3.7/dist-packages (from Orange3) (0.15)\n",
            "Collecting pyqtgraph>=0.11.1\n",
            "  Downloading pyqtgraph-0.12.2-py3-none-any.whl (959 kB)\n",
            "\u001b[K     |████████████████████████████████| 959 kB 58.4 MB/s \n",
            "\u001b[?25hCollecting serverfiles\n",
            "  Downloading serverfiles-0.3.1.tar.gz (11 kB)\n",
            "Collecting xlsxwriter\n",
            "  Downloading XlsxWriter-3.0.1-py3-none-any.whl (148 kB)\n",
            "\u001b[K     |████████████████████████████████| 148 kB 55.0 MB/s \n",
            "\u001b[?25hRequirement already satisfied: bottleneck>=1.0.0 in /usr/local/lib/python3.7/dist-packages (from Orange3) (1.3.2)\n",
            "Collecting orange-widget-base>=4.13.0\n",
            "  Downloading orange_widget_base-4.13.1-py3-none-any.whl (251 kB)\n",
            "\u001b[K     |████████████████████████████████| 251 kB 57.8 MB/s \n",
            "\u001b[?25hCollecting PyQt5!=5.15.1,>=5.12\n",
            "  Downloading PyQt5-5.15.4-cp36.cp37.cp38.cp39-abi3-manylinux2014_x86_64.whl (8.3 MB)\n",
            "\u001b[K     |████████████████████████████████| 8.3 MB 55.6 MB/s \n",
            "\u001b[?25hRequirement already satisfied: numpy>=1.16.0 in /usr/local/lib/python3.7/dist-packages (from Orange3) (1.19.5)\n",
            "Requirement already satisfied: openpyxl in /usr/local/lib/python3.7/dist-packages (from Orange3) (2.5.9)\n",
            "Requirement already satisfied: networkx in /usr/local/lib/python3.7/dist-packages (from Orange3) (2.6.2)\n",
            "Requirement already satisfied: pyyaml in /usr/local/lib/python3.7/dist-packages (from Orange3) (3.13)\n",
            "Requirement already satisfied: setuptools>=36.3 in /usr/local/lib/python3.7/dist-packages (from Orange3) (57.4.0)\n",
            "Collecting PyQtWebEngine>=5.12\n",
            "  Downloading PyQtWebEngine-5.15.4-cp36.cp37.cp38.cp39-abi3-manylinux2014_x86_64.whl (229 kB)\n",
            "\u001b[K     |████████████████████████████████| 229 kB 75.5 MB/s \n",
            "\u001b[?25hRequirement already satisfied: scipy>=0.16.1 in /usr/local/lib/python3.7/dist-packages (from Orange3) (1.4.1)\n",
            "Collecting AnyQt>=0.0.11\n",
            "  Downloading AnyQt-0.0.13-py3-none-any.whl (47 kB)\n",
            "\u001b[K     |████████████████████████████████| 47 kB 4.6 MB/s \n",
            "\u001b[?25hRequirement already satisfied: xlrd>=0.9.2 in /usr/local/lib/python3.7/dist-packages (from Orange3) (1.1.0)\n",
            "Requirement already satisfied: requests in /usr/local/lib/python3.7/dist-packages (from Orange3) (2.23.0)\n",
            "Collecting keyring\n",
            "  Downloading keyring-23.2.1-py3-none-any.whl (33 kB)\n",
            "Requirement already satisfied: pip>=9.0 in /usr/local/lib/python3.7/dist-packages (from Orange3) (21.1.3)\n",
            "Collecting keyrings.alt\n",
            "  Downloading keyrings.alt-4.1.0-py3-none-any.whl (20 kB)\n",
            "Requirement already satisfied: certifi in /usr/local/lib/python3.7/dist-packages (from httpx<0.17,>=0.14.0->Orange3) (2021.5.30)\n",
            "Collecting rfc3986[idna2008]<2,>=1.3\n",
            "  Downloading rfc3986-1.5.0-py2.py3-none-any.whl (31 kB)\n",
            "Collecting sniffio\n",
            "  Downloading sniffio-1.2.0-py3-none-any.whl (10 kB)\n",
            "Collecting httpcore==0.12.*\n",
            "  Downloading httpcore-0.12.3-py3-none-any.whl (55 kB)\n",
            "\u001b[K     |████████████████████████████████| 55 kB 3.6 MB/s \n",
            "\u001b[?25hCollecting h11==0.*\n",
            "  Downloading h11-0.12.0-py3-none-any.whl (54 kB)\n",
            "\u001b[K     |████████████████████████████████| 54 kB 3.1 MB/s \n",
            "\u001b[?25hRequirement already satisfied: pyparsing!=2.0.4,!=2.1.2,!=2.1.6,>=2.0.1 in /usr/local/lib/python3.7/dist-packages (from matplotlib>=2.0.0->Orange3) (2.4.7)\n",
            "Requirement already satisfied: python-dateutil>=2.1 in /usr/local/lib/python3.7/dist-packages (from matplotlib>=2.0.0->Orange3) (2.8.2)\n",
            "Requirement already satisfied: cycler>=0.10 in /usr/local/lib/python3.7/dist-packages (from matplotlib>=2.0.0->Orange3) (0.10.0)\n",
            "Requirement already satisfied: kiwisolver>=1.0.1 in /usr/local/lib/python3.7/dist-packages (from matplotlib>=2.0.0->Orange3) (1.3.1)\n",
            "Requirement already satisfied: six in /usr/local/lib/python3.7/dist-packages (from cycler>=0.10->matplotlib>=2.0.0->Orange3) (1.15.0)\n",
            "Requirement already satisfied: importlib-metadata in /usr/local/lib/python3.7/dist-packages (from orange-canvas-core<0.2a,>=0.1.21->Orange3) (4.6.4)\n",
            "Requirement already satisfied: docutils in /usr/local/lib/python3.7/dist-packages (from orange-canvas-core<0.2a,>=0.1.21->Orange3) (0.17.1)\n",
            "Requirement already satisfied: cachecontrol[filecache] in /usr/local/lib/python3.7/dist-packages (from orange-canvas-core<0.2a,>=0.1.21->Orange3) (0.12.6)\n",
            "Collecting commonmark>=0.8.1\n",
            "  Downloading commonmark-0.9.1-py2.py3-none-any.whl (51 kB)\n",
            "\u001b[K     |████████████████████████████████| 51 kB 6.1 MB/s \n",
            "\u001b[?25hCollecting qasync\n",
            "  Downloading qasync-0.22.0-py3-none-any.whl (13 kB)\n",
            "Collecting dictdiffer\n",
            "  Downloading dictdiffer-0.9.0-py2.py3-none-any.whl (16 kB)\n",
            "Requirement already satisfied: typing-extensions>=3.7.4.3 in /usr/local/lib/python3.7/dist-packages (from orange-widget-base>=4.13.0->Orange3) (3.7.4.3)\n",
            "Requirement already satisfied: pytz>=2017.2 in /usr/local/lib/python3.7/dist-packages (from pandas>=1.0.0->Orange3) (2018.9)\n",
            "Collecting PyQt5-Qt5>=5.15\n",
            "  Downloading PyQt5_Qt5-5.15.2-py3-none-manylinux2014_x86_64.whl (59.9 MB)\n",
            "\u001b[K     |████████████████████████████████| 59.9 MB 38 kB/s \n",
            "\u001b[?25hCollecting PyQt5-sip<13,>=12.8\n",
            "  Downloading PyQt5_sip-12.9.0-cp37-cp37m-manylinux1_x86_64.whl (317 kB)\n",
            "\u001b[K     |████████████████████████████████| 317 kB 46.3 MB/s \n",
            "\u001b[?25hCollecting PyQtWebEngine-Qt5>=5.15\n",
            "  Downloading PyQtWebEngine_Qt5-5.15.2-py3-none-manylinux2014_x86_64.whl (67.5 MB)\n",
            "\u001b[K     |████████████████████████████████| 67.5 MB 34 kB/s \n",
            "\u001b[?25hRequirement already satisfied: idna in /usr/local/lib/python3.7/dist-packages (from rfc3986[idna2008]<2,>=1.3->httpx<0.17,>=0.14.0->Orange3) (2.10)\n",
            "Requirement already satisfied: msgpack>=0.5.2 in /usr/local/lib/python3.7/dist-packages (from cachecontrol[filecache]->orange-canvas-core<0.2a,>=0.1.21->Orange3) (1.0.2)\n",
            "Collecting lockfile>=0.9\n",
            "  Downloading lockfile-0.12.2-py2.py3-none-any.whl (13 kB)\n",
            "Requirement already satisfied: zipp>=0.5 in /usr/local/lib/python3.7/dist-packages (from importlib-metadata->orange-canvas-core<0.2a,>=0.1.21->Orange3) (3.5.0)\n",
            "Collecting SecretStorage>=3.2\n",
            "  Downloading SecretStorage-3.3.1-py3-none-any.whl (15 kB)\n",
            "Collecting jeepney>=0.4.2\n",
            "  Downloading jeepney-0.7.1-py3-none-any.whl (54 kB)\n",
            "\u001b[K     |████████████████████████████████| 54 kB 2.3 MB/s \n",
            "\u001b[?25hCollecting cryptography>=2.0\n",
            "  Downloading cryptography-3.4.8-cp36-abi3-manylinux_2_24_x86_64.whl (3.0 MB)\n",
            "\u001b[K     |████████████████████████████████| 3.0 MB 42.5 MB/s \n",
            "\u001b[?25hRequirement already satisfied: cffi>=1.12 in /usr/local/lib/python3.7/dist-packages (from cryptography>=2.0->SecretStorage>=3.2->keyring->Orange3) (1.14.6)\n",
            "Requirement already satisfied: pycparser in /usr/local/lib/python3.7/dist-packages (from cffi>=1.12->cryptography>=2.0->SecretStorage>=3.2->keyring->Orange3) (2.20)\n",
            "Requirement already satisfied: jdcal in /usr/local/lib/python3.7/dist-packages (from openpyxl->Orange3) (1.4.1)\n",
            "Requirement already satisfied: et-xmlfile in /usr/local/lib/python3.7/dist-packages (from openpyxl->Orange3) (1.1.0)\n",
            "Requirement already satisfied: urllib3!=1.25.0,!=1.25.1,<1.26,>=1.21.1 in /usr/local/lib/python3.7/dist-packages (from requests->Orange3) (1.24.3)\n",
            "Building wheels for collected packages: serverfiles\n",
            "  Building wheel for serverfiles (setup.py) ... \u001b[?25l\u001b[?25hdone\n",
            "  Created wheel for serverfiles: filename=serverfiles-0.3.1-py3-none-any.whl size=6947 sha256=183d83a379aeb4ee84dfc7bcfffe09a7e2a10ecf30429b4b2fc1cae2364af8c1\n",
            "  Stored in directory: /root/.cache/pip/wheels/f4/36/15/fcfe21874746d5cd17c18b1e5501fbf86544da90d4ab6afe17\n",
            "Successfully built serverfiles\n",
            "Installing collected packages: lockfile, sniffio, rfc3986, qasync, PyQt5-sip, PyQt5-Qt5, jeepney, h11, dictdiffer, cryptography, commonmark, AnyQt, SecretStorage, PyQtWebEngine-Qt5, pyqtgraph, PyQt5, orange-canvas-core, httpcore, xlsxwriter, serverfiles, PyQtWebEngine, orange-widget-base, openTSNE, keyrings.alt, keyring, httpx, baycomp, Orange3\n",
            "Successfully installed AnyQt-0.0.13 Orange3-3.29.3 PyQt5-5.15.4 PyQt5-Qt5-5.15.2 PyQt5-sip-12.9.0 PyQtWebEngine-5.15.4 PyQtWebEngine-Qt5-5.15.2 SecretStorage-3.3.1 baycomp-1.0.2 commonmark-0.9.1 cryptography-3.4.8 dictdiffer-0.9.0 h11-0.12.0 httpcore-0.12.3 httpx-0.16.1 jeepney-0.7.1 keyring-23.2.1 keyrings.alt-4.1.0 lockfile-0.12.2 openTSNE-0.6.0 orange-canvas-core-0.1.22 orange-widget-base-4.13.1 pyqtgraph-0.12.2 qasync-0.22.0 rfc3986-1.5.0 serverfiles-0.3.1 sniffio-1.2.0 xlsxwriter-3.0.1\n"
          ]
        }
      ]
    },
    {
      "cell_type": "code",
      "metadata": {
        "id": "ymBXTOH3Ts-O"
      },
      "source": [
        "import Orange"
      ],
      "execution_count": 2,
      "outputs": []
    },
    {
      "cell_type": "code",
      "metadata": {
        "colab": {
          "base_uri": "https://localhost:8080/"
        },
        "id": "RkEZyZKKT08C",
        "outputId": "be939a14-fbaa-473d-f091-ec7d6a475bf7"
      },
      "source": [
        "##Discretization\n",
        "brown = Orange.data.Table(\"brown-selected.tab\")\n",
        "disc = Orange.preprocess.Discretize()\n",
        "disc.method = Orange.preprocess.discretize.EqualFreq(n=3)\n",
        "d_brown = disc(brown)\n",
        "\n",
        "print(\"Original dataset:\")\n",
        "for e in brown[:3]:\n",
        "    print(e)\n",
        "\n",
        "print(\"Discretized dataset:\")\n",
        "for e in d_brown[:3]:\n",
        "    print(e)"
      ],
      "execution_count": 3,
      "outputs": [
        {
          "output_type": "stream",
          "name": "stdout",
          "text": [
            "Original dataset:\n",
            "[?, -0.023, 0.057, 0.007, 0.018, -0.057, 0.009, -0.034, -0.016, -0.046, 0.060, -0.007, 0.007, -0.092, 0.057, -0.009, -0.009, -0.067, -0.051, -0.092, -0.023, -0.057, -0.041, -0.097, -0.083, -0.053, ?, -0.046, -0.138, -0.002, -0.039, -0.083, -0.057, -0.067, -0.074, -0.099, -0.193, -0.108, -0.069, -0.108, -0.099, -0.170, -0.138, 0.083, -0.099, -0.051, -0.154, -0.099, -0.014, 0.179, 0.257, 0.232, 0.209, -0.182, 0.016, -0.028, 0.133, 0.297, 0.076, 0.018, 0.124, 0.179, 0.016, 0.368, -0.083, -0.057, -0.051, -0.193, 0.131, 0.099, 0.274, 0.117, -0.041, -0.032, -0.051, -0.021, -0.023, -0.083, -0.032 | Proteas] {YGR270W}\n",
            "[-0.031, -0.031, -0.060, 0.037, -0.071, -0.018, -0.026, -0.052, 0.018, 0.052, 0.055, -0.026, -0.037, -0.084, -0.071, -0.016, -0.134, -0.058, 0.087, 0.068, -0.134, -0.110, -0.157, -0.089, -0.037, 0.055, 0.055, 0.052, -0.024, 0.073, 0.076, 0.060, -0.089, -0.128, -0.152, -0.039, 0.016, 0.026, 0.026, 0.010, -0.008, 0.042, 0.018, -0.123, 0.089, 0.026, 0.063, -0.031, 0.026, 0.199, 0.149, 0.021, -0.024, -0.194, -0.079, -0.443, 0.184, 0.490, -0.052, 0.073, 0.102, 0.128, -0.010, -0.045, -0.076, -0.008, 0.113, 0.016, -0.066, -0.212, -0.176, -0.176, 0.031, -0.024, 0.018, 0.003, -0.008, 0.021, -0.113 | Proteas] {YIL075C}\n",
            "[-0.013, ?, 0.067, -0.025, 0.017, 0.008, -0.042, 0.013, 0.111, 0.015, 0.140, 0.065, -0.019, -0.031, -0.025, 0.084, -0.038, 0.013, 0.088, 0.050, -0.117, 0.025, -0.084, -0.057, -0.008, 0.078, -0.002, 0.006, -0.038, 0.063, 0.061, 0.063, ?, 0.140, 0.017, -0.159, -0.130, -0.121, -0.025, 0.189, -0.029, -0.256, -0.061, 0.038, -0.145, -0.029, -0.094, 0.038, 0.209, 0.279, 0.218, 0.094, 0.075, 0.044, -0.052, -0.170, 0.276, 0.450, -0.061, -0.008, 0.044, 0.040, -0.088, -0.061, 0.113, 0.149, 0.124, 0.080, -0.063, -0.052, 0.161, 0.034, 0.096, 0.048, 0.065, -0.013, -0.075, 0.216, 0.038 | Proteas] {YDL007W}\n",
            "Discretized dataset:\n",
            "[?, -0.04150 - -0.00550, ≥ 0, -0.02950 - 0.0075, ≥ -0.00650, < -0.04050, -0.020 - 0.0115, < -0.027, < -0.00550, < -0.02150, ≥ 0.032, ≥ -0.00950, -0.00950 - 0.0185, < -0.05450, ≥ 0.04, -0.02550 - 0.0135, -0.01350 - 0.0275, < -0.031, -0.079 - 0.0025, < -0.02550, < -0.01350, < 0.0025, < 0.0165, < 0.011, < 0, < 0.0305, ?, < 0.0065, < -0.00250, < 0.0035, < -0.024, < -0.02350, -0.07050 - -0.03150, < -0.046, < -0.01750, < -0.00150, < -0.01850, < 0.0045, < 0.0145, < 0.0275, < -0.002, < -0.03050, < 0.0095, ≥ 0.0645, < -0.02450, < -0.027, < -0.020, < -0.028, ≥ -0.08450, ≥ -0.09650, ≥ -0.142, ≥ -0.11150, ≥ -0.06850, < 0, ≥ -0.02450, -0.07150 - 0.1295, ≥ -0.151, ≥ -0.19950, ≥ -0.01450, ≥ -0.05450, ≥ -0.073, ≥ -0.15150, ≥ -0.08650, ≥ -0.08450, < 0.0165, < -0.02550, -0.08050 - -0.04250, < -0.14550, ≥ -0.00450, ≥ -0.00550, ≥ -0.059, ≥ -0.129, < 0.0115, < -0.01150, < 0.0135, -0.03750 - 0.0045, -0.04250 - -0.006, -0.17850 - -0.01050, ≥ -0.17150 | Proteas] {YGR270W}\n",
            "[< -0.01550, -0.04150 - -0.00550, < -0.029, ≥ 0.0075, < -0.03950, -0.04050 - -0.00150, < -0.020, < -0.027, -0.00550 - 0.0265, ≥ 0.0095, ≥ 0.032, -0.03450 - -0.00950, < -0.00950, < -0.05450, < -0.005, -0.02550 - 0.0135, < -0.01350, < -0.031, ≥ 0.0025, ≥ 0.02, < -0.01350, < 0.0025, < 0.0165, < 0.011, < 0, 0.0305 - 0.073, ≥ 0.0465, ≥ 0.0515, < -0.00250, ≥ 0.037, ≥ 0.0125, ≥ 0.0125, < -0.07050, < -0.046, < -0.01750, < -0.00150, -0.01850 - 0.0515, 0.0045 - 0.0515, 0.0145 - 0.0455, < 0.0275, < -0.002, ≥ 0.0125, 0.0095 - 0.0465, < 0.0095, ≥ 0.0505, -0.027 - 0.04, -0.020 - 0.076, < -0.028, ≥ -0.08450, ≥ -0.09650, ≥ -0.142, ≥ -0.11150, ≥ -0.06850, < 0, < -0.05950, < -0.07150, ≥ -0.151, ≥ -0.19950, < -0.045, ≥ -0.05450, ≥ -0.073, ≥ -0.15150, ≥ -0.08650, ≥ -0.08450, < 0.0165, -0.02550 - 0.0275, ≥ -0.04250, ≥ -0.09850, < -0.04950, < -0.04350, < -0.13150, -0.21950 - -0.129, ≥ 0.0285, < -0.01150, 0.0135 - 0.0475, -0.03750 - 0.0045, -0.04250 - -0.006, ≥ -0.01050, ≥ -0.17150 | Proteas] {YIL075C}\n",
            "[-0.01550 - 0.0155, ?, ≥ 0, -0.02950 - 0.0075, ≥ -0.00650, ≥ -0.00150, < -0.020, -0.027 - 0.0145, ≥ 0.0265, ≥ 0.0095, ≥ 0.032, ≥ -0.00950, < -0.00950, -0.05450 - -0.019, < -0.005, ≥ 0.0135, < -0.01350, ≥ 0.004, ≥ 0.0025, ≥ 0.02, < -0.01350, 0.0025 - 0.063, < 0.0165, < 0.011, < 0, ≥ 0.073, < 0.0135, < 0.0065, < -0.00250, ≥ 0.037, ≥ 0.0125, ≥ 0.0125, ?, ≥ 0.0055, -0.01750 - 0.0225, < -0.00150, < -0.01850, < 0.0045, < 0.0145, ≥ 0.0625, < -0.002, < -0.03050, < 0.0095, 0.0095 - 0.0645, < -0.02450, < -0.027, < -0.020, ≥ 0.0025, ≥ -0.08450, ≥ -0.09650, ≥ -0.142, ≥ -0.11150, ≥ -0.06850, 0 - 0.0455, -0.05950 - -0.02450, < -0.07150, ≥ -0.151, ≥ -0.19950, < -0.045, ≥ -0.05450, ≥ -0.073, ≥ -0.15150, -0.13350 - -0.08650, ≥ -0.08450, ≥ 0.0555, ≥ 0.0275, ≥ -0.04250, ≥ -0.09850, < -0.04950, < -0.04350, ≥ -0.059, ≥ -0.129, ≥ 0.0285, ≥ 0.0175, ≥ 0.0475, -0.03750 - 0.0045, < -0.04250, ≥ -0.01050, ≥ -0.17150 | Proteas] {YDL007W}\n"
          ]
        },
        {
          "output_type": "stream",
          "name": "stderr",
          "text": [
            "/usr/local/lib/python3.7/dist-packages/psycopg2/__init__.py:144: UserWarning: The psycopg2 wheel package will be renamed from release 2.8; in order to keep installing from binary please use \"pip install psycopg2-binary\" instead. For details see: <http://initd.org/psycopg/docs/install.html#binary-install-from-pypi>.\n",
            "  \"\"\")\n"
          ]
        }
      ]
    },
    {
      "cell_type": "code",
      "metadata": {
        "colab": {
          "base_uri": "https://localhost:8080/"
        },
        "id": "0IR1Fi7RUZ8Z",
        "outputId": "3ffb8c69-4e2b-4a80-abf3-2b4a81237231"
      },
      "source": [
        "#Continuization\n",
        "titanic = Orange.data.Table(\"titanic\")\n",
        "continuizer = Orange.preprocess.Continuize()\n",
        "titanic1 = continuizer(titanic)\n",
        "\n",
        "print(\"Before Continuization:\\n\",titanic.domain)\n",
        "print(\"After Continuization:\\n\",titanic1.domain)\n",
        "\n",
        "\n",
        "#Look at specific data of row 10 in the table before and after continuization\n",
        "print(\"10th row data before: \",titanic[10])\n",
        "print(\"10th row data after: \",titanic1[10])"
      ],
      "execution_count": 4,
      "outputs": [
        {
          "output_type": "stream",
          "name": "stdout",
          "text": [
            "Before Continuization:\n",
            " [status, age, sex | survived]\n",
            "After Continuization:\n",
            " [status=crew, status=first, status=second, status=third, age=adult, age=child, sex=female, sex=male | survived]\n",
            "10th row data before:  [first, adult, male | yes]\n",
            "10th row data after:  [0, 1, 0, 0, 1, 0, 0, 1 | yes]\n"
          ]
        }
      ]
    },
    {
      "cell_type": "code",
      "metadata": {
        "colab": {
          "base_uri": "https://localhost:8080/"
        },
        "id": "fOp0f4-vUn28",
        "outputId": "4c38b8f0-dae8-44c8-a4c2-5205196a1767"
      },
      "source": [
        "#Normalization\n",
        "from Orange.preprocess import Normalize\n",
        "normalizer = Normalize(norm_type=Normalize.NormalizeBySpan)\n",
        "normalized_data = normalizer(brown)\n",
        "print(\"Before Normalization: \",brown[2])\n",
        "print(\"After noramlization: \",normalized_data[2])"
      ],
      "execution_count": 5,
      "outputs": [
        {
          "output_type": "stream",
          "name": "stdout",
          "text": [
            "Before Normalization:  [-0.013, ?, 0.067, -0.025, 0.017, 0.008, -0.042, 0.013, 0.111, 0.015, 0.140, 0.065, -0.019, -0.031, -0.025, 0.084, -0.038, 0.013, 0.088, 0.050, -0.117, 0.025, -0.084, -0.057, -0.008, 0.078, -0.002, 0.006, -0.038, 0.063, 0.061, 0.063, ?, 0.140, 0.017, -0.159, -0.130, -0.121, -0.025, 0.189, -0.029, -0.256, -0.061, 0.038, -0.145, -0.029, -0.094, 0.038, 0.209, 0.279, 0.218, 0.094, 0.075, 0.044, -0.052, -0.170, 0.276, 0.450, -0.061, -0.008, 0.044, 0.040, -0.088, -0.061, 0.113, 0.149, 0.124, 0.080, -0.063, -0.052, 0.161, 0.034, 0.096, 0.048, 0.065, -0.013, -0.075, 0.216, 0.038 | Proteas] {YDL007W}\n",
            "After noramlization:  [0.41061, ?, 0.71479, 0.46689, 0.78623, 0.66790, 0.33679, 0.60300, 0.92050, 0.61189, 1.000, 0.96154, 0.40271, 0.54276, 0.34211, 0.81455, 0.44275, 0.39310, 0.58333, 0.75853, 0.47182, 0.60969, 0.29213, 0.41546, 0.43817, 0.66176, 0.78592, 0.55017, 0.47785, 0.76797, 0.63941, 0.72083, ?, 1.000, 0.63941, 0.000, 0.28078, 0.05699, 0.61129, 0.68433, 0.30508, 0.07094, 0.30526, 0.48513, 0.18372, 0.24194, 0.43620, 0.72945, 0.94798, 0.96502, 0.87603, 0.77955, 0.78864, 0.52193, 0.48955, 0.37062, 0.90581, 0.891791, 0.50150, 0.47391, 0.74322, 0.73321, 0.36919, 0.41870, 0.89051, 0.80318, 0.88785, 0.89256, 0.27152, 0.40302, 0.78783, 0.69761, 0.91981, 0.71605, 0.70732, 0.49718, 0.26020, 0.65803, 0.50802 | Proteas] {YDL007W}\n"
          ]
        }
      ]
    },
    {
      "cell_type": "code",
      "metadata": {
        "colab": {
          "base_uri": "https://localhost:8080/"
        },
        "id": "v5yaK1PVUsW7",
        "outputId": "c2a1f1f5-254d-4b7f-9ed2-13f549d84625"
      },
      "source": [
        "#Randomization\n",
        "from Orange.preprocess import Randomize\n",
        "randomizer = Randomize(Randomize.RandomizeClasses)\n",
        "randomized_data = randomizer(brown)\n",
        "print(\"Before Randomization: \",brown[2])\n",
        "print(\"After Randomization: \",randomized_data[2])"
      ],
      "execution_count": 6,
      "outputs": [
        {
          "output_type": "stream",
          "name": "stdout",
          "text": [
            "Before Randomization:  [-0.013, ?, 0.067, -0.025, 0.017, 0.008, -0.042, 0.013, 0.111, 0.015, 0.140, 0.065, -0.019, -0.031, -0.025, 0.084, -0.038, 0.013, 0.088, 0.050, -0.117, 0.025, -0.084, -0.057, -0.008, 0.078, -0.002, 0.006, -0.038, 0.063, 0.061, 0.063, ?, 0.140, 0.017, -0.159, -0.130, -0.121, -0.025, 0.189, -0.029, -0.256, -0.061, 0.038, -0.145, -0.029, -0.094, 0.038, 0.209, 0.279, 0.218, 0.094, 0.075, 0.044, -0.052, -0.170, 0.276, 0.450, -0.061, -0.008, 0.044, 0.040, -0.088, -0.061, 0.113, 0.149, 0.124, 0.080, -0.063, -0.052, 0.161, 0.034, 0.096, 0.048, 0.065, -0.013, -0.075, 0.216, 0.038 | Proteas] {YDL007W}\n",
            "After Randomization:  [-0.013, ?, 0.067, -0.025, 0.017, 0.008, -0.042, 0.013, 0.111, 0.015, 0.140, 0.065, -0.019, -0.031, -0.025, 0.084, -0.038, 0.013, 0.088, 0.050, -0.117, 0.025, -0.084, -0.057, -0.008, 0.078, -0.002, 0.006, -0.038, 0.063, 0.061, 0.063, ?, 0.140, 0.017, -0.159, -0.130, -0.121, -0.025, 0.189, -0.029, -0.256, -0.061, 0.038, -0.145, -0.029, -0.094, 0.038, 0.209, 0.279, 0.218, 0.094, 0.075, 0.044, -0.052, -0.170, 0.276, 0.450, -0.061, -0.008, 0.044, 0.040, -0.088, -0.061, 0.113, 0.149, 0.124, 0.080, -0.063, -0.052, 0.161, 0.034, 0.096, 0.048, 0.065, -0.013, -0.075, 0.216, 0.038 | Ribo] {YDL007W}\n"
          ]
        }
      ]
    }
  ]
}